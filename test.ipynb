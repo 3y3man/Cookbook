{
 "cells": [
  {
   "cell_type": "code",
   "execution_count": 10,
   "metadata": {},
   "outputs": [],
   "source": [
    "# Define lists for cuisines, intolerances, meal types, and diets\n",
    "cuisines_list = [\"African\", \"Asian\", \"American\", \"British\", \"Cajun\", \"Caribbean\", \"Chinese\", \n",
    "                 \"Eastern European\", \"European\", \"French\", \"German\", \"Greek\", \"Indian\", \n",
    "                 \"Irish\", \"Italian\", \"Japanese\", \"Jewish\", \"Korean\", \"Latin American\", \n",
    "                 \"Mediterranean\", \"Mexican\", \"Middle Eastern\", \"Nordic\", \"Southern\", \n",
    "                 \"Spanish\", \"Thai\", \"Vietnamese\"]\n",
    "\n",
    "intolerances_list = [\"Dairy\", \"Egg\", \"Gluten\", \"Grain\", \"Peanut\", \"Seafood\", \"Sesame\",\n",
    "                     \"Shellfish\", \"Soy\", \"Sulfite\", \"Tree Nut\", \"Wheat\"]\n",
    "\n",
    "meal_types_list = [\"main course\", \"side dish\", \"dessert\", \"appetizer\", \"salad\", \"bread\",\n",
    "                   \"breakfast\", \"soup\", \"beverage\", \"sauce\", \"marinade\", \"fingerfood\",\n",
    "                   \"snack\", \"drink\"]\n",
    "\n",
    "diets_list = [\"Gluten Free\", \"Ketogenic\", \"Vegetarian\", \"Lacto-vegetarian\", \"Ovo-vegetarian\",\n",
    "              \"Vegan\", \"Pescetarian\", \"Paleo\", \"Primal\", \"Low FODMAP\", \"Whole30\"]\n",
    "\n",
    "exclusion_keywords = [\"allergic\", \"remove\", \"exclude\", \"no\", \"without\"]\n"
   ]
  },
  {
   "cell_type": "code",
   "execution_count": null,
   "metadata": {},
   "outputs": [],
   "source": [
    "import pandas as pd\n",
    "\n",
    "# Load the CSV file, specifying no headers and the correct delimiter\n",
    "file_path = 'static/top-1k-ingredients.csv'\n",
    "ingredients_data = pd.read_csv(file_path, header=None, delimiter=';')\n",
    "\n",
    "# Extract only the first column, which contains the ingredient names\n",
    "ingredients_list = ingredients_data[0].tolist()\n",
    "\n",
    "# Now 'ingredients_list' contains only the names of the ingredients\n",
    "ingredients_list"
   ]
  },
  {
   "cell_type": "code",
   "execution_count": 29,
   "metadata": {},
   "outputs": [
    {
     "name": "stdout",
     "output_type": "stream",
     "text": [
      "Cuisines: ['Italian']\n",
      "Meal Types: []\n",
      "Diets: []\n",
      "Ingredients to Include: ['cheese']\n",
      "Ingredients to Exclude: ['milk']\n"
     ]
    }
   ],
   "source": [
    "import spacy\n",
    "import inflect\n",
    "\n",
    "# Load the spaCy model\n",
    "nlp = spacy.load(\"en_core_web_sm\")\n",
    "p = inflect.engine()\n",
    "\n",
    "singular_ingredients = {p.singular_noun(ing) or ing for ing in ingredients_list}\n",
    "\n",
    "# Example text\n",
    "# text = \"I want an Italian main course with apple, cheese, and eggs. Exclude onion and no peanuts.\"\n",
    "text = \"I want an Italian recipe with cheese and eggs. I'm allergic to milk.\"\n",
    "\n",
    "# Process the text\n",
    "doc = nlp(text)\n",
    "\n",
    "# Track whether 'allergic' has been encountered\n",
    "# past_allergic = False\n",
    "\n",
    "# Initialize lists to hold extracted information\n",
    "ingredients_to_include = []\n",
    "ingredients_to_exclude = []\n",
    "extracted_cuisines = []\n",
    "extracted_meal_types = []\n",
    "extracted_diets = []\n",
    "\n",
    "# Flags to determine context based on exclusion keywords\n",
    "exclude_context = False\n",
    "\n",
    "# Iterate over tokens\n",
    "for token in doc:\n",
    "    word = token.text\n",
    "    word = p.singular_noun(word) or word\n",
    "    lower_word = word.lower()\n",
    "\n",
    "    # Check if current token indicates an exclusion or allergy context\n",
    "    if lower_word in exclusion_keywords:\n",
    "        exclude_context = True\n",
    "        continue\n",
    "\n",
    "    # Check against predefined lists and classify ingredients\n",
    "    if word in cuisines_list:\n",
    "        extracted_cuisines.append(word)\n",
    "    elif lower_word in meal_types_list:\n",
    "        extracted_meal_types.append(lower_word)\n",
    "    elif word in diets_list:\n",
    "        extracted_diets.append(word)\n",
    "    elif word in singular_ingredients:  # Check if the word is in the ingredients list\n",
    "        if exclude_context:\n",
    "            # Further check if it's a known allergen\n",
    "            if word in intolerances_list:\n",
    "                ingredients_to_exclude.append(word)  # Treat as a specific intolerance/allergen\n",
    "            else:\n",
    "                ingredients_to_exclude.append(word)  # General exclusion\n",
    "        else:\n",
    "            ingredients_to_include.append(word)\n",
    "\n",
    "print(\"Cuisines:\", extracted_cuisines)\n",
    "print(\"Meal Types:\", extracted_meal_types)\n",
    "print(\"Diets:\", extracted_diets)\n",
    "print(\"Ingredients to Include:\", ingredients_to_include)\n",
    "print(\"Ingredients to Exclude:\", ingredients_to_exclude)"
   ]
  },
  {
   "cell_type": "code",
   "execution_count": 31,
   "metadata": {},
   "outputs": [
    {
     "name": "stdout",
     "output_type": "stream",
     "text": [
      "Skipping Recording.m4a due to FileNotFoundError: [WinError 2] The system cannot find the file specified\n"
     ]
    },
    {
     "name": "stderr",
     "output_type": "stream",
     "text": [
      "C:\\Users\\HP\\AppData\\Local\\Programs\\Python\\Python311\\Lib\\site-packages\\whisper\\transcribe.py:126: UserWarning: FP16 is not supported on CPU; using FP32 instead\n",
      "  warnings.warn(\"FP16 is not supported on CPU; using FP32 instead\")\n",
      "Traceback (most recent call last):\n",
      "  File \"C:\\Users\\HP\\AppData\\Local\\Programs\\Python\\Python311\\Lib\\site-packages\\whisper\\transcribe.py\", line 597, in cli\n",
      "    result = transcribe(model, audio_path, temperature=temperature, **args)\n",
      "             ^^^^^^^^^^^^^^^^^^^^^^^^^^^^^^^^^^^^^^^^^^^^^^^^^^^^^^^^^^^^^^\n",
      "  File \"C:\\Users\\HP\\AppData\\Local\\Programs\\Python\\Python311\\Lib\\site-packages\\whisper\\transcribe.py\", line 133, in transcribe\n",
      "    mel = log_mel_spectrogram(audio, model.dims.n_mels, padding=N_SAMPLES)\n",
      "          ^^^^^^^^^^^^^^^^^^^^^^^^^^^^^^^^^^^^^^^^^^^^^^^^^^^^^^^^^^^^^^^^\n",
      "  File \"C:\\Users\\HP\\AppData\\Local\\Programs\\Python\\Python311\\Lib\\site-packages\\whisper\\audio.py\", line 140, in log_mel_spectrogram\n",
      "    audio = load_audio(audio)\n",
      "            ^^^^^^^^^^^^^^^^^\n",
      "  File \"C:\\Users\\HP\\AppData\\Local\\Programs\\Python\\Python311\\Lib\\site-packages\\whisper\\audio.py\", line 58, in load_audio\n",
      "    out = run(cmd, capture_output=True, check=True).stdout\n",
      "          ^^^^^^^^^^^^^^^^^^^^^^^^^^^^^^^^^^^^^^^^^\n",
      "  File \"C:\\Users\\HP\\AppData\\Local\\Programs\\Python\\Python311\\Lib\\subprocess.py\", line 548, in run\n",
      "    with Popen(*popenargs, **kwargs) as process:\n",
      "         ^^^^^^^^^^^^^^^^^^^^^^^^^^^\n",
      "  File \"C:\\Users\\HP\\AppData\\Local\\Programs\\Python\\Python311\\Lib\\subprocess.py\", line 1026, in __init__\n",
      "    self._execute_child(args, executable, preexec_fn, close_fds,\n",
      "  File \"C:\\Users\\HP\\AppData\\Local\\Programs\\Python\\Python311\\Lib\\subprocess.py\", line 1538, in _execute_child\n",
      "    hp, ht, pid, tid = _winapi.CreateProcess(executable, args,\n",
      "                       ^^^^^^^^^^^^^^^^^^^^^^^^^^^^^^^^^^^^^^^\n",
      "FileNotFoundError: [WinError 2] The system cannot find the file specified\n"
     ]
    }
   ],
   "source": [
    " !whisper \"Recording.m4a\" --model small"
   ]
  }
 ],
 "metadata": {
  "kernelspec": {
   "display_name": "Python 3",
   "language": "python",
   "name": "python3"
  },
  "language_info": {
   "codemirror_mode": {
    "name": "ipython",
    "version": 3
   },
   "file_extension": ".py",
   "mimetype": "text/x-python",
   "name": "python",
   "nbconvert_exporter": "python",
   "pygments_lexer": "ipython3",
   "version": "3.11.4"
  }
 },
 "nbformat": 4,
 "nbformat_minor": 2
}
