{
 "cells": [
  {
   "cell_type": "code",
   "execution_count": 2,
   "metadata": {},
   "outputs": [
    {
     "data": {
      "text/plain": [
       "'Ultralytics YOLOv8.0.196  Python-3.11.4 torch-2.2.0+cpu CPU (Intel Core(TM) i7-8850H 2.60GHz)\\nModel summary (fused): 168 layers, 11130615 parameters, 0 gradients, 28.5 GFLOPs\\n\\nimage 1/1 c:\\\\Users\\\\HP\\\\Documents\\\\PlayGround\\\\Capstone_AI-Recipe_Recomendation\\\\ChefGPT main\\\\static\\\\foods1.jpg: 544x800 4 carrots, 2 cucumbers, 1 eggplant, 2 white radishs, 421.5ms\\nSpeed: 15.6ms preprocess, 421.5ms inference, 15.6ms postprocess per image at shape (1, 3, 544, 800)\\n Learn more at https://docs.ultralytics.com/modes/predict\\n'"
      ]
     },
     "execution_count": 2,
     "metadata": {},
     "output_type": "execute_result"
    }
   ],
   "source": [
    "from helpers import identifier\n",
    "\n",
    "image_path = \"static/foods1.jpg\"\n",
    "result = identifier(image_path)\n",
    "result"
   ]
  },
  {
   "cell_type": "code",
   "execution_count": 12,
   "metadata": {},
   "outputs": [
    {
     "data": {
      "text/plain": [
       "'[{\"title\": \"Cannellini Bean and Asparagus Salad with Mushrooms\", \"ingredients\": [\"cannellini beans\", \"curry leaves\", \"tarragon\", \"garlic\", \"juice of lemon\", \"lemon zest\", \"mushrooms\", \"grain mustard\"], \"includedIngredients\": [], \"excludedIngredients\": [\"cannellini beans\", \"curry leaves\", \"tarragon\", \"garlic\", \"juice of lemon\", \"lemon zest\", \"mushrooms\", \"grain mustard\"], \"steps\": [\"Rinse the cannellini beans and soak for 8 hours or overnight in several inches of water.\", \"Drain and rinse, then transfer to a medium saucepan and cover with fresh water.\", \"Add the curry leaves or bay leaf and bring to a boil. Reduce heat to medium-low, cover, and simmer for 1 hour or until the beans are tender but not falling apart.\", \"Drain and transfer to a large salad bowl.Meanwhile, snap the woody ends off of the asparagus spears and steam the spears for 6 minutes or until just tender but still retaining their crunch.\", \"Transfer to the salad bowl.Now cook the mushrooms.\", \"Heat the oil in a large skillet over high heat. As soon as the oil is hot, drop in the mushrooms and cook, stirring constantly, for 5 minutes or until the mushrooms begin to brown and lose some of their liquid.\", \"Transfer to the bowl with the asparagus.To make the dressing, combine the tarragon, lemon zest, garlic, lemon juice, olive oil and mustard in a small food processor or blender. Process until smooth.\", \"Pour the dressing over the salad, season with salt and pepper, and toss.\", \"Serve at room temperature or chilled.\"], \"servings\": 6, \"time\": 45, \"image\": \"https://img.spoonacular.com/recipes/782585-312x231.jpg\", \"nutrition\": null, \"diet\": [\"gluten free\", \"dairy free\", \"lacto ovo vegetarian\", \"vegan\"], \"cuisine\": [], \"dishTypes\": [\"side dish\", \"lunch\", \"main course\", \"salad\", \"main dish\", \"dinner\"], \"intolerances\": null}, {\"title\": \"Berry Banana Breakfast Smoothie\", \"ingredients\": [\"banana\", \"graham cracker crumbs\", \"soy milk\", \"strawberries\", \"vanilla yogurt\"], \"includedIngredients\": [], \"excludedIngredients\": [\"banana\", \"graham cracker crumbs\", \"soy milk\", \"strawberries\", \"vanilla yogurt\"], \"steps\": [\"Take some yogurt in your favorite flavor and add 1 container to your blender.\", \"Add in the berries, banana, and soy milk and blend. Top your glass with a few graham cracker crumbs and serve.\"], \"servings\": 1, \"time\": 5, \"image\": \"https://img.spoonacular.com/recipes/715497-312x231.jpg\", \"nutrition\": null, \"diet\": [\"lacto ovo vegetarian\"], \"cuisine\": [], \"dishTypes\": [\"morning meal\", \"brunch\", \"beverage\", \"breakfast\", \"drink\"], \"intolerances\": null}, {\"title\": \"Red Lentil Soup with Chicken and Turnips\", \"ingredients\": [\"additional toppings: avocado\", \"carrots\", \"celery stalks\", \"chicken breast\", \"flat leaf parsley\", \"garlic\", \"canned tomatoes\", \"lentils\", \"turnip\", \"vegetable stock\", \"onion\"], \"includedIngredients\": [], \"excludedIngredients\": [\"additional toppings: avocado\", \"carrots\", \"celery stalks\", \"chicken breast\", \"flat leaf parsley\", \"garlic\", \"canned tomatoes\", \"lentils\", \"turnip\", \"vegetable stock\", \"onion\"], \"steps\": [\"To a large dutch oven or soup pot, heat the olive oil over medium heat.\", \"Add the onion, carrots and celery and cook for 8-10 minutes or until tender, stirring occasionally.\", \"Add the garlic and cook for an additional 2 minutes, or until fragrant. Season conservatively with a pinch of salt and black pepper.To the pot, add the tomatoes, turnip and red lentils. Stir to combine. Stir in the vegetable stock and increase the heat on the stove to high. Bring the soup to a boil and then reduce to a simmer. Simmer for 20 minutes or until the turnips are tender and the lentils are cooked through.\", \"Add the chicken breast and parsley. Cook for an additional 5 minutes. Adjust seasoning to taste.\", \"Serve the soup immediately garnished with fresh parsley and any additional toppings. Enjoy!\"], \"servings\": 8, \"time\": 55, \"image\": \"https://img.spoonacular.com/recipes/715415-312x231.jpg\", \"nutrition\": null, \"diet\": [\"gluten free\", \"dairy free\"], \"cuisine\": [], \"dishTypes\": [\"lunch\", \"soup\", \"main course\", \"main dish\", \"dinner\"], \"intolerances\": null}, {\"title\": \"Asparagus and Pea Soup: Real Convenience Food\", \"ingredients\": [\"asparagus\", \"garlic\", \"onion\", \"peas\", \"vegetable broth\"], \"includedIngredients\": [], \"excludedIngredients\": [\"asparagus\", \"garlic\", \"onion\", \"peas\", \"vegetable broth\"], \"steps\": [\"Chop the garlic and onions.\", \"Saute the onions in the EVOO, adding the garlic after a couple of minutes; cook until the onions are translucent.\", \"Add the whole bag of asparagus and cover everything with the broth. Season with salt and pepper and a pinch of red pepper flakes, if using.Simmer until the asparagus is bright green and tender (if you\\'ve thawed the asparagus it will only take a couple of minutes). Turn off the heat and puree using an immersion blender.\", \"Add peas (the heat of the soup will quickly thaw them) and puree until smooth; add more until it reaches the thickness you like.Top with chives and a small dollop of creme fraiche or sour cream or greek yogurt.\"], \"servings\": 2, \"time\": 20, \"image\": \"https://img.spoonacular.com/recipes/716406-312x231.jpg\", \"nutrition\": null, \"diet\": [\"gluten free\", \"dairy free\", \"paleolithic\", \"lacto ovo vegetarian\", \"primal\", \"vegan\"], \"cuisine\": [], \"dishTypes\": [\"antipasti\", \"soup\", \"starter\", \"snack\", \"appetizer\", \"antipasto\", \"hor d\\'oeuvre\"], \"intolerances\": null}, {\"title\": \"Garlicky Kale\", \"ingredients\": [\"balsamic vinegar\", \"garlic\", \"curly kale\"], \"includedIngredients\": [], \"excludedIngredients\": [\"balsamic vinegar\", \"garlic\", \"curly kale\"], \"steps\": [\"Heat the olive oil in a large pot over medium heat.\", \"Add the kale and cover.Stir occasionally until the volume of the kale is reduced by half. Uncover.\", \"Add garlic and basalmic.Allow to cook for about another 30 seconds or so, mixing well so that the garlic and vinegar are well distributed.\", \"Serve hot.\"], \"servings\": 2, \"time\": 45, \"image\": \"https://img.spoonacular.com/recipes/644387-312x231.jpg\", \"nutrition\": null, \"diet\": [\"gluten free\", \"dairy free\", \"paleolithic\", \"lacto ovo vegetarian\", \"primal\", \"whole 30\", \"vegan\"], \"cuisine\": [], \"dishTypes\": [\"side dish\"], \"intolerances\": null}]'"
      ]
     },
     "execution_count": 12,
     "metadata": {},
     "output_type": "execute_result"
    }
   ],
   "source": [
    "from helpers import search_complex_recipe\n",
    "import json\n",
    "\n",
    "ingredients = ['carrot', 'egg', 'beans']\n",
    "recipes = search_complex_recipe()\n",
    "if recipes:\n",
    "    recipes = json.dumps(recipes)\n",
    "recipes\n",
    "        "
   ]
  }
 ],
 "metadata": {
  "kernelspec": {
   "display_name": "Python 3",
   "language": "python",
   "name": "python3"
  },
  "language_info": {
   "codemirror_mode": {
    "name": "ipython",
    "version": 3
   },
   "file_extension": ".py",
   "mimetype": "text/x-python",
   "name": "python",
   "nbconvert_exporter": "python",
   "pygments_lexer": "ipython3",
   "version": "3.11.4"
  }
 },
 "nbformat": 4,
 "nbformat_minor": 2
}
